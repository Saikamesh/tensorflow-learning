{
  "nbformat": 4,
  "nbformat_minor": 0,
  "metadata": {
    "accelerator": "GPU",
    "colab": {
      "name": "NLP Course - Week 3 Exercise Answer.ipynb",
      "provenance": [],
      "toc_visible": true
    },
    "kernelspec": {
      "display_name": "Python 3",
      "language": "python",
      "name": "python3"
    },
    "language_info": {
      "codemirror_mode": {
        "name": "ipython",
        "version": 3
      },
      "file_extension": ".py",
      "mimetype": "text/x-python",
      "name": "python",
      "nbconvert_exporter": "python",
      "pygments_lexer": "ipython3",
      "version": "3.7.6"
    }
  },
  "cells": [
    {
      "cell_type": "code",
      "metadata": {
        "id": "zX4Kg8DUTKWO"
      },
      "source": [
        "#@title Licensed under the Apache License, Version 2.0 (the \"License\");\n",
        "# you may not use this file except in compliance with the License.\n",
        "# You may obtain a copy of the License at\n",
        "#\n",
        "# https://www.apache.org/licenses/LICENSE-2.0\n",
        "#\n",
        "# Unless required by applicable law or agreed to in writing, software\n",
        "# distributed under the License is distributed on an \"AS IS\" BASIS,\n",
        "# WITHOUT WARRANTIES OR CONDITIONS OF ANY KIND, either express or implied.\n",
        "# See the License for the specific language governing permissions and\n",
        "# limitations under the License."
      ],
      "execution_count": null,
      "outputs": []
    },
    {
      "cell_type": "markdown",
      "metadata": {
        "id": "VLhMucO0X4Th"
      },
      "source": [
        "<a href=\"https://colab.research.google.com/github/lmoroney/dlaicourse/blob/master/TensorFlow%20In%20Practice/Course%203%20-%20NLP/NLP%20Course%20-%20Week%203%20Exercise%20Answer.ipynb\" target=\"_parent\"><img src=\"https://colab.research.google.com/assets/colab-badge.svg\" alt=\"Open In Colab\"/></a>"
      ]
    },
    {
      "cell_type": "code",
      "metadata": {
        "id": "hmA6EzkQJ5jt"
      },
      "source": [
        "import json\n",
        "import tensorflow as tf\n",
        "import csv\n",
        "import random\n",
        "import numpy as np\n",
        "\n",
        "from tensorflow.keras.preprocessing.text import Tokenizer\n",
        "from tensorflow.keras.preprocessing.sequence import pad_sequences\n",
        "from tensorflow.keras.utils import to_categorical\n",
        "from tensorflow.keras import regularizers\n",
        "\n",
        "\n",
        "embedding_dim = 100\n",
        "max_length = 16\n",
        "trunc_type='post'\n",
        "padding_type='post'\n",
        "oov_tok = \"<OOV>\"\n",
        "training_size=160000\n",
        "test_portion=.1\n",
        "\n",
        "corpus = []\n"
      ],
      "execution_count": 1,
      "outputs": []
    },
    {
      "cell_type": "code",
      "metadata": {
        "id": "bM0l_dORKqE0",
        "outputId": "1d28ec27-88f5-4362-c40c-265f6ffae5ed",
        "colab": {
          "base_uri": "https://localhost:8080/",
          "height": 204
        }
      },
      "source": [
        "# Note that I cleaned the Stanford dataset to remove LATIN1 encoding to make it easier for Python CSV reader\n",
        "# You can do that yourself with:\n",
        "# iconv -f LATIN1 -t UTF8 training.1600000.processed.noemoticon.csv -o training_cleaned.csv\n",
        "# I then hosted it on my site to make it easier to use in this notebook\n",
        "\n",
        "!wget --no-check-certificate \\\n",
        "    https://storage.googleapis.com/laurencemoroney-blog.appspot.com/training_cleaned.csv \\\n",
        "    -O /tmp/training_cleaned.csv\n",
        "\n",
        "num_sentences = 0\n",
        "\n",
        "with open(\"/tmp/training_cleaned.csv\") as csvfile:\n",
        "    reader = csv.reader(csvfile, delimiter=',')\n",
        "    for row in reader:\n",
        "        list_item=[]\n",
        "        list_item.append(row[5])\n",
        "        this_label=row[0]\n",
        "        if this_label=='0':\n",
        "            list_item.append(0)\n",
        "        else:\n",
        "            list_item.append(1)\n",
        "        num_sentences = num_sentences + 1\n",
        "        corpus.append(list_item)\n"
      ],
      "execution_count": 2,
      "outputs": [
        {
          "output_type": "stream",
          "text": [
            "--2020-10-02 17:33:46--  https://storage.googleapis.com/laurencemoroney-blog.appspot.com/training_cleaned.csv\n",
            "Resolving storage.googleapis.com (storage.googleapis.com)... 74.125.204.128, 64.233.189.128, 108.177.125.128, ...\n",
            "Connecting to storage.googleapis.com (storage.googleapis.com)|74.125.204.128|:443... connected.\n",
            "HTTP request sent, awaiting response... 200 OK\n",
            "Length: 238942690 (228M) [application/octet-stream]\n",
            "Saving to: ‘/tmp/training_cleaned.csv’\n",
            "\n",
            "/tmp/training_clean 100%[===================>] 227.87M  41.1MB/s    in 5.5s    \n",
            "\n",
            "2020-10-02 17:33:52 (41.1 MB/s) - ‘/tmp/training_cleaned.csv’ saved [238942690/238942690]\n",
            "\n"
          ],
          "name": "stdout"
        }
      ]
    },
    {
      "cell_type": "code",
      "metadata": {
        "id": "3kxblBUjEUX-",
        "outputId": "cf14aaa1-7b83-4d17-9ab4-2d8abb932c86",
        "colab": {
          "base_uri": "https://localhost:8080/",
          "height": 68
        }
      },
      "source": [
        "print(num_sentences)\n",
        "print(len(corpus))\n",
        "print(corpus[1])\n",
        "\n",
        "# Expected Output:\n",
        "# 1600000\n",
        "# 1600000\n",
        "# [\"is upset that he can't update his Facebook by texting it... and might cry as a result  School today also. Blah!\", 0]"
      ],
      "execution_count": 3,
      "outputs": [
        {
          "output_type": "stream",
          "text": [
            "1600000\n",
            "1600000\n",
            "[\"is upset that he can't update his Facebook by texting it... and might cry as a result  School today also. Blah!\", 0]\n"
          ],
          "name": "stdout"
        }
      ]
    },
    {
      "cell_type": "code",
      "metadata": {
        "id": "ohOGz24lsNAD"
      },
      "source": [
        "sentences=[]\n",
        "labels=[]\n",
        "random.shuffle(corpus)\n",
        "for x in range(training_size):\n",
        "    sentences.append(corpus[x][0])\n",
        "    labels.append(corpus[x][1])\n",
        "\n",
        "\n",
        "tokenizer = Tokenizer()\n",
        "tokenizer.fit_on_texts(sentences)\n",
        "\n",
        "word_index = tokenizer.word_index\n",
        "vocab_size=len(word_index)\n",
        "\n",
        "sequences = tokenizer.texts_to_sequences(sentences)\n",
        "padded = pad_sequences(sequences, maxlen=max_length, padding=padding_type, truncating=trunc_type)\n",
        "\n",
        "split = int(test_portion * training_size)\n",
        "\n",
        "test_sequences = padded[0:split]\n",
        "training_sequences = padded[split:training_size]\n",
        "test_labels = labels[0:split]\n",
        "training_labels = labels[split:training_size]"
      ],
      "execution_count": 4,
      "outputs": []
    },
    {
      "cell_type": "code",
      "metadata": {
        "id": "gIrtRem1En3N",
        "outputId": "19bbed3f-3362-480d-c5f8-b99fc3a337b9",
        "colab": {
          "base_uri": "https://localhost:8080/",
          "height": 51
        }
      },
      "source": [
        "print(vocab_size)\n",
        "print(word_index['i'])\n",
        "# Expected Output\n",
        "# 138858\n",
        "# 1"
      ],
      "execution_count": 5,
      "outputs": [
        {
          "output_type": "stream",
          "text": [
            "138528\n",
            "1\n"
          ],
          "name": "stdout"
        }
      ]
    },
    {
      "cell_type": "code",
      "metadata": {
        "id": "C1zdgJkusRh0",
        "outputId": "0b20a09a-a9aa-4dc1-bf34-0f875b010dad",
        "colab": {
          "base_uri": "https://localhost:8080/",
          "height": 204
        }
      },
      "source": [
        "# Note this is the 100 dimension version of GloVe from Stanford\n",
        "# I unzipped and hosted it on my site to make this notebook easier\n",
        "!wget --no-check-certificate \\\n",
        "    https://storage.googleapis.com/laurencemoroney-blog.appspot.com/glove.6B.100d.txt \\\n",
        "    -O /tmp/glove.6B.100d.txt\n",
        "embeddings_index = {};\n",
        "with open('/tmp/glove.6B.100d.txt') as f:\n",
        "    for line in f:\n",
        "        values = line.split();\n",
        "        word = values[0];\n",
        "        coefs = np.asarray(values[1:], dtype='float32');\n",
        "        embeddings_index[word] = coefs;\n",
        "\n",
        "embeddings_matrix = np.zeros((vocab_size+1, embedding_dim));\n",
        "for word, i in word_index.items():\n",
        "    embedding_vector = embeddings_index.get(word);\n",
        "    if embedding_vector is not None:\n",
        "        embeddings_matrix[i] = embedding_vector;"
      ],
      "execution_count": 6,
      "outputs": [
        {
          "output_type": "stream",
          "text": [
            "--2020-10-02 17:35:05--  https://storage.googleapis.com/laurencemoroney-blog.appspot.com/glove.6B.100d.txt\n",
            "Resolving storage.googleapis.com (storage.googleapis.com)... 74.125.204.128, 64.233.189.128, 108.177.97.128, ...\n",
            "Connecting to storage.googleapis.com (storage.googleapis.com)|74.125.204.128|:443... connected.\n",
            "HTTP request sent, awaiting response... 200 OK\n",
            "Length: 347116733 (331M) [text/plain]\n",
            "Saving to: ‘/tmp/glove.6B.100d.txt’\n",
            "\n",
            "/tmp/glove.6B.100d. 100%[===================>] 331.04M  43.8MB/s    in 7.6s    \n",
            "\n",
            "2020-10-02 17:35:13 (43.8 MB/s) - ‘/tmp/glove.6B.100d.txt’ saved [347116733/347116733]\n",
            "\n"
          ],
          "name": "stdout"
        }
      ]
    },
    {
      "cell_type": "code",
      "metadata": {
        "id": "71NLk_lpFLNt",
        "outputId": "4bb591cf-7b8f-4170-da71-f5efb7e9215c",
        "colab": {
          "base_uri": "https://localhost:8080/",
          "height": 34
        }
      },
      "source": [
        "print(len(embeddings_matrix))\n",
        "# Expected Output\n",
        "# 138859"
      ],
      "execution_count": 7,
      "outputs": [
        {
          "output_type": "stream",
          "text": [
            "138529\n"
          ],
          "name": "stdout"
        }
      ]
    },
    {
      "cell_type": "code",
      "metadata": {
        "id": "iKKvbuEBOGFz",
        "outputId": "fb8f1092-3341-412f-cdac-af4879520293",
        "colab": {
          "base_uri": "https://localhost:8080/",
          "height": 1000
        }
      },
      "source": [
        "model = tf.keras.Sequential([\n",
        "    tf.keras.layers.Embedding(vocab_size+1, embedding_dim, input_length=max_length, weights=[embeddings_matrix], trainable=False),\n",
        "    tf.keras.layers.Dropout(0.2),\n",
        "    tf.keras.layers.Conv1D(64, 5, activation='relu'),\n",
        "    tf.keras.layers.MaxPooling1D(pool_size=4),\n",
        "    tf.keras.layers.LSTM(64),\n",
        "    tf.keras.layers.Dense(1, activation='sigmoid')\n",
        "])\n",
        "model.compile(loss='binary_crossentropy',optimizer='adam',metrics=['accuracy'])\n",
        "model.summary()\n",
        "\n",
        "num_epochs = 50\n",
        "\n",
        "training_padded = np.array(training_sequences)\n",
        "training_labels = np.array(training_labels)\n",
        "testing_padded = np.array(test_sequences)\n",
        "testing_labels = np.array(test_labels)\n",
        "\n",
        "history = model.fit(training_padded, training_labels, epochs=num_epochs, validation_data=(testing_padded, testing_labels), verbose=2)\n",
        "\n",
        "print(\"Training Complete\")"
      ],
      "execution_count": 8,
      "outputs": [
        {
          "output_type": "stream",
          "text": [
            "Model: \"sequential\"\n",
            "_________________________________________________________________\n",
            "Layer (type)                 Output Shape              Param #   \n",
            "=================================================================\n",
            "embedding (Embedding)        (None, 16, 100)           13852900  \n",
            "_________________________________________________________________\n",
            "dropout (Dropout)            (None, 16, 100)           0         \n",
            "_________________________________________________________________\n",
            "conv1d (Conv1D)              (None, 12, 64)            32064     \n",
            "_________________________________________________________________\n",
            "max_pooling1d (MaxPooling1D) (None, 3, 64)             0         \n",
            "_________________________________________________________________\n",
            "lstm (LSTM)                  (None, 64)                33024     \n",
            "_________________________________________________________________\n",
            "dense (Dense)                (None, 1)                 65        \n",
            "=================================================================\n",
            "Total params: 13,918,053\n",
            "Trainable params: 65,153\n",
            "Non-trainable params: 13,852,900\n",
            "_________________________________________________________________\n",
            "Epoch 1/50\n",
            "4500/4500 - 15s - loss: 0.5652 - accuracy: 0.7008 - val_loss: 0.5335 - val_accuracy: 0.7269\n",
            "Epoch 2/50\n",
            "4500/4500 - 14s - loss: 0.5256 - accuracy: 0.7328 - val_loss: 0.5159 - val_accuracy: 0.7418\n",
            "Epoch 3/50\n",
            "4500/4500 - 15s - loss: 0.5103 - accuracy: 0.7438 - val_loss: 0.5104 - val_accuracy: 0.7441\n",
            "Epoch 4/50\n",
            "4500/4500 - 15s - loss: 0.4986 - accuracy: 0.7512 - val_loss: 0.5048 - val_accuracy: 0.7494\n",
            "Epoch 5/50\n",
            "4500/4500 - 15s - loss: 0.4885 - accuracy: 0.7589 - val_loss: 0.5013 - val_accuracy: 0.7499\n",
            "Epoch 6/50\n",
            "4500/4500 - 14s - loss: 0.4826 - accuracy: 0.7634 - val_loss: 0.5067 - val_accuracy: 0.7471\n",
            "Epoch 7/50\n",
            "4500/4500 - 15s - loss: 0.4765 - accuracy: 0.7671 - val_loss: 0.4984 - val_accuracy: 0.7519\n",
            "Epoch 8/50\n",
            "4500/4500 - 15s - loss: 0.4718 - accuracy: 0.7686 - val_loss: 0.4998 - val_accuracy: 0.7502\n",
            "Epoch 9/50\n",
            "4500/4500 - 15s - loss: 0.4668 - accuracy: 0.7725 - val_loss: 0.5083 - val_accuracy: 0.7510\n",
            "Epoch 10/50\n",
            "4500/4500 - 15s - loss: 0.4642 - accuracy: 0.7754 - val_loss: 0.5013 - val_accuracy: 0.7544\n",
            "Epoch 11/50\n",
            "4500/4500 - 14s - loss: 0.4598 - accuracy: 0.7770 - val_loss: 0.5058 - val_accuracy: 0.7526\n",
            "Epoch 12/50\n",
            "4500/4500 - 15s - loss: 0.4575 - accuracy: 0.7779 - val_loss: 0.5072 - val_accuracy: 0.7527\n",
            "Epoch 13/50\n",
            "4500/4500 - 15s - loss: 0.4541 - accuracy: 0.7804 - val_loss: 0.5048 - val_accuracy: 0.7524\n",
            "Epoch 14/50\n",
            "4500/4500 - 15s - loss: 0.4514 - accuracy: 0.7823 - val_loss: 0.5058 - val_accuracy: 0.7536\n",
            "Epoch 15/50\n",
            "4500/4500 - 15s - loss: 0.4513 - accuracy: 0.7821 - val_loss: 0.5058 - val_accuracy: 0.7540\n",
            "Epoch 16/50\n",
            "4500/4500 - 16s - loss: 0.4464 - accuracy: 0.7849 - val_loss: 0.5070 - val_accuracy: 0.7515\n",
            "Epoch 17/50\n",
            "4500/4500 - 14s - loss: 0.4459 - accuracy: 0.7857 - val_loss: 0.5078 - val_accuracy: 0.7526\n",
            "Epoch 18/50\n",
            "4500/4500 - 15s - loss: 0.4461 - accuracy: 0.7853 - val_loss: 0.5112 - val_accuracy: 0.7525\n",
            "Epoch 19/50\n",
            "4500/4500 - 14s - loss: 0.4423 - accuracy: 0.7866 - val_loss: 0.5097 - val_accuracy: 0.7528\n",
            "Epoch 20/50\n",
            "4500/4500 - 15s - loss: 0.4409 - accuracy: 0.7883 - val_loss: 0.5140 - val_accuracy: 0.7550\n",
            "Epoch 21/50\n",
            "4500/4500 - 15s - loss: 0.4398 - accuracy: 0.7887 - val_loss: 0.5106 - val_accuracy: 0.7552\n",
            "Epoch 22/50\n",
            "4500/4500 - 14s - loss: 0.4393 - accuracy: 0.7898 - val_loss: 0.5094 - val_accuracy: 0.7534\n",
            "Epoch 23/50\n",
            "4500/4500 - 15s - loss: 0.4381 - accuracy: 0.7897 - val_loss: 0.5108 - val_accuracy: 0.7517\n",
            "Epoch 24/50\n",
            "4500/4500 - 15s - loss: 0.4374 - accuracy: 0.7911 - val_loss: 0.5111 - val_accuracy: 0.7544\n",
            "Epoch 25/50\n",
            "4500/4500 - 15s - loss: 0.4356 - accuracy: 0.7916 - val_loss: 0.5162 - val_accuracy: 0.7501\n",
            "Epoch 26/50\n",
            "4500/4500 - 15s - loss: 0.4352 - accuracy: 0.7913 - val_loss: 0.5280 - val_accuracy: 0.7440\n",
            "Epoch 27/50\n",
            "4500/4500 - 14s - loss: 0.4351 - accuracy: 0.7916 - val_loss: 0.5104 - val_accuracy: 0.7523\n",
            "Epoch 28/50\n",
            "4500/4500 - 15s - loss: 0.4346 - accuracy: 0.7921 - val_loss: 0.5124 - val_accuracy: 0.7517\n",
            "Epoch 29/50\n",
            "4500/4500 - 15s - loss: 0.4337 - accuracy: 0.7928 - val_loss: 0.5113 - val_accuracy: 0.7534\n",
            "Epoch 30/50\n",
            "4500/4500 - 15s - loss: 0.4322 - accuracy: 0.7933 - val_loss: 0.5106 - val_accuracy: 0.7527\n",
            "Epoch 31/50\n",
            "4500/4500 - 14s - loss: 0.4330 - accuracy: 0.7918 - val_loss: 0.5158 - val_accuracy: 0.7533\n",
            "Epoch 32/50\n",
            "4500/4500 - 15s - loss: 0.4305 - accuracy: 0.7943 - val_loss: 0.5193 - val_accuracy: 0.7508\n",
            "Epoch 33/50\n",
            "4500/4500 - 15s - loss: 0.4304 - accuracy: 0.7940 - val_loss: 0.5191 - val_accuracy: 0.7494\n",
            "Epoch 34/50\n",
            "4500/4500 - 14s - loss: 0.4303 - accuracy: 0.7947 - val_loss: 0.5156 - val_accuracy: 0.7527\n",
            "Epoch 35/50\n",
            "4500/4500 - 15s - loss: 0.4298 - accuracy: 0.7953 - val_loss: 0.5147 - val_accuracy: 0.7492\n",
            "Epoch 36/50\n",
            "4500/4500 - 14s - loss: 0.4273 - accuracy: 0.7962 - val_loss: 0.5266 - val_accuracy: 0.7500\n",
            "Epoch 37/50\n",
            "4500/4500 - 16s - loss: 0.4292 - accuracy: 0.7946 - val_loss: 0.5180 - val_accuracy: 0.7512\n",
            "Epoch 38/50\n",
            "4500/4500 - 15s - loss: 0.4299 - accuracy: 0.7944 - val_loss: 0.5159 - val_accuracy: 0.7494\n",
            "Epoch 39/50\n",
            "4500/4500 - 15s - loss: 0.4279 - accuracy: 0.7965 - val_loss: 0.5214 - val_accuracy: 0.7460\n",
            "Epoch 40/50\n",
            "4500/4500 - 14s - loss: 0.4280 - accuracy: 0.7959 - val_loss: 0.5212 - val_accuracy: 0.7523\n",
            "Epoch 41/50\n",
            "4500/4500 - 14s - loss: 0.4265 - accuracy: 0.7972 - val_loss: 0.5199 - val_accuracy: 0.7457\n",
            "Epoch 42/50\n",
            "4500/4500 - 14s - loss: 0.4255 - accuracy: 0.7978 - val_loss: 0.5201 - val_accuracy: 0.7519\n",
            "Epoch 43/50\n",
            "4500/4500 - 14s - loss: 0.4267 - accuracy: 0.7980 - val_loss: 0.5194 - val_accuracy: 0.7489\n",
            "Epoch 44/50\n",
            "4500/4500 - 14s - loss: 0.4257 - accuracy: 0.7971 - val_loss: 0.5189 - val_accuracy: 0.7502\n",
            "Epoch 45/50\n",
            "4500/4500 - 14s - loss: 0.4274 - accuracy: 0.7965 - val_loss: 0.5171 - val_accuracy: 0.7504\n",
            "Epoch 46/50\n",
            "4500/4500 - 14s - loss: 0.4260 - accuracy: 0.7969 - val_loss: 0.5193 - val_accuracy: 0.7519\n",
            "Epoch 47/50\n",
            "4500/4500 - 14s - loss: 0.4264 - accuracy: 0.7976 - val_loss: 0.5243 - val_accuracy: 0.7508\n",
            "Epoch 48/50\n",
            "4500/4500 - 15s - loss: 0.4258 - accuracy: 0.7979 - val_loss: 0.5185 - val_accuracy: 0.7499\n",
            "Epoch 49/50\n",
            "4500/4500 - 14s - loss: 0.4268 - accuracy: 0.7963 - val_loss: 0.5184 - val_accuracy: 0.7496\n",
            "Epoch 50/50\n",
            "4500/4500 - 14s - loss: 0.4252 - accuracy: 0.7974 - val_loss: 0.5179 - val_accuracy: 0.7491\n",
            "Training Complete\n"
          ],
          "name": "stdout"
        }
      ]
    },
    {
      "cell_type": "code",
      "metadata": {
        "id": "qxju4ItJKO8F",
        "outputId": "7b244206-0fd3-42e8-a8b5-ab6ea02d93d0",
        "colab": {
          "base_uri": "https://localhost:8080/",
          "height": 607
        }
      },
      "source": [
        "import matplotlib.image  as mpimg\n",
        "import matplotlib.pyplot as plt\n",
        "\n",
        "#-----------------------------------------------------------\n",
        "# Retrieve a list of list results on training and test data\n",
        "# sets for each training epoch\n",
        "#-----------------------------------------------------------\n",
        "acc=history.history['accuracy']\n",
        "val_acc=history.history['val_accuracy']\n",
        "loss=history.history['loss']\n",
        "val_loss=history.history['val_loss']\n",
        "\n",
        "epochs=range(len(acc)) # Get number of epochs\n",
        "\n",
        "#------------------------------------------------\n",
        "# Plot training and validation accuracy per epoch\n",
        "#------------------------------------------------\n",
        "plt.plot(epochs, acc, 'r')\n",
        "plt.plot(epochs, val_acc, 'b')\n",
        "plt.title('Training and validation accuracy')\n",
        "plt.xlabel(\"Epochs\")\n",
        "plt.ylabel(\"Accuracy\")\n",
        "plt.legend([\"Accuracy\", \"Validation Accuracy\"])\n",
        "\n",
        "plt.figure()\n",
        "\n",
        "#------------------------------------------------\n",
        "# Plot training and validation loss per epoch\n",
        "#------------------------------------------------\n",
        "plt.plot(epochs, loss, 'r')\n",
        "plt.plot(epochs, val_loss, 'b')\n",
        "plt.title('Training and validation loss')\n",
        "plt.xlabel(\"Epochs\")\n",
        "plt.ylabel(\"Loss\")\n",
        "plt.legend([\"Loss\", \"Validation Loss\"])\n",
        "\n",
        "plt.figure()\n",
        "\n",
        "\n",
        "# Expected Output\n",
        "# A chart where the validation loss does not increase sharply!"
      ],
      "execution_count": 9,
      "outputs": [
        {
          "output_type": "execute_result",
          "data": {
            "text/plain": [
              "<Figure size 432x288 with 0 Axes>"
            ]
          },
          "metadata": {
            "tags": []
          },
          "execution_count": 9
        },
        {
          "output_type": "display_data",
          "data": {
            "image/png": "[encoded data removed]",
            "text/plain": [
              "<Figure size 432x288 with 1 Axes>"
            ]
          },
          "metadata": {
            "tags": [],
            "needs_background": "light"
          }
        },
        {
          "output_type": "display_data",
          "data": {
            "image/png": "[encoded data removed]",
            "text/plain": [
              "<Figure size 432x288 with 1 Axes>"
            ]
          },
          "metadata": {
            "tags": [],
            "needs_background": "light"
          }
        },
        {
          "output_type": "display_data",
          "data": {
            "text/plain": [
              "<Figure size 432x288 with 0 Axes>"
            ]
          },
          "metadata": {
            "tags": []
          }
        }
      ]
    }
  ]
}